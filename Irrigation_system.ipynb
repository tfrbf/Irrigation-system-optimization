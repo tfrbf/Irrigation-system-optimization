{
 "cells": [
  {
   "cell_type": "markdown",
   "id": "d1bfb069-58e2-4030-b2a0-3937f1681b72",
   "metadata": {},
   "source": [
    "## Libraries"
   ]
  },
  {
   "cell_type": "code",
   "execution_count": 3,
   "id": "891ea33f-ef9e-4aa6-aa8e-fc4c187ab54f",
   "metadata": {},
   "outputs": [],
   "source": [
    "import random\n",
    "import math\n",
    "import matplotlib.pyplot as plt"
   ]
  },
  {
   "cell_type": "markdown",
   "id": "a6bb4385-5178-4881-8a9b-d2f9969acf1c",
   "metadata": {},
   "source": [
    "## Cost function"
   ]
  },
  {
   "cell_type": "code",
   "execution_count": 5,
   "id": "3cb06de5-5028-4661-876a-da21ee016f38",
   "metadata": {},
   "outputs": [],
   "source": [
    "# Define the complex cost function\n",
    "def complex_cost_function(D, F, Q, SM, WD):\n",
    "    # Coefficients\n",
    "    a1 = 0.5  # Weight for irrigation duration\n",
    "    a2 = 0.3  # Weight for irrigation frequency\n",
    "    a3 = 0.2  # Weight for flow rate\n",
    "    a4 = 0.4  # Weight for soil moisture\n",
    "    a5 = 0.6  # Weight for weather data\n",
    "\n",
    "    # Define constraints\n",
    "    min_duration = 2  # Minimum allowable irrigation duration (hours)\n",
    "    max_duration = 8  # Maximum allowable irrigation duration (hours)\n",
    "    min_frequency = 12  # Minimum allowable irrigation frequency (hours)\n",
    "    max_frequency = 36  # Maximum allowable irrigation frequency (hours)\n",
    "    max_flow_rate = 2.0  # Maximum allowable flow rate (L/s)\n",
    "\n",
    "    # Calculate cost components\n",
    "    cost_duration = a1 * math.exp(D / max_duration)  # Penalize long durations\n",
    "    cost_frequency = a2 * math.exp((F - min_frequency) / (max_frequency - min_frequency))  # Penalize low frequency\n",
    "    cost_flow_rate = a3 * math.exp((Q - max_flow_rate) / max_flow_rate)  # Penalize high flow rate\n",
    "    cost_soil_moisture = a4 * (1 - SM)  # Penalize dry soil\n",
    "    cost_weather_data = a5 * (1 - WD)  # Penalize unfavorable weather\n",
    "\n",
    "    # Calculate the total cost\n",
    "    total_cost = cost_duration + cost_frequency + cost_flow_rate + cost_soil_moisture + cost_weather_data\n",
    "\n",
    "    return total_cost\n",
    "\n"
   ]
  },
  {
   "cell_type": "markdown",
   "id": "4d68c477-d57d-4178-8584-2929f2f2aa6d",
   "metadata": {},
   "source": [
    "## B-hole algorithm "
   ]
  },
  {
   "cell_type": "code",
   "execution_count": 22,
   "id": "1c0d9e8e-1639-406d-8db8-c1393d7e5b13",
   "metadata": {},
   "outputs": [
    {
     "name": "stdout",
     "output_type": "stream",
     "text": [
      "Optimal Parameters: [2.5156610766661625, 13.808144353210523, 0.459005339369588, 0.7071063463503882, 0.9902205602698199]\n",
      "Minimum Cost: 1.2238148591733926\n"
     ]
    },
    {
     "data": {
      "image/png": "[encoded data removed]",
      "text/plain": [
       "<Figure size 800x500 with 1 Axes>"
      ]
     },
     "metadata": {},
     "output_type": "display_data"
    }
   ],
   "source": [
    "# Black-hole algorithm for optimization with plotting\n",
    "def black_hole_algorithm_with_plot(iterations, lower_bounds, upper_bounds):\n",
    "    # Initialize the best solution and best cost\n",
    "    best_solution = [random.uniform(lower, upper) for lower, upper in zip(lower_bounds, upper_bounds)]\n",
    "    best_cost = complex_cost_function(*best_solution)\n",
    "\n",
    "    # Lists to store optimization progress for plotting\n",
    "    iteration_list = []\n",
    "    cost_list = []\n",
    "\n",
    "    for iteration in range(iterations):\n",
    "        # Generate a random solution in the search space\n",
    "        candidate_solution = [random.uniform(lower, upper) for lower, upper in zip(lower_bounds, upper_bounds)]\n",
    "        candidate_cost = complex_cost_function(*candidate_solution)\n",
    "\n",
    "        # Update the best solution if the candidate is better\n",
    "        if candidate_cost < best_cost:\n",
    "            best_solution = candidate_solution\n",
    "            best_cost = candidate_cost\n",
    "\n",
    "        # Store progress data for plotting\n",
    "        iteration_list.append(iteration)\n",
    "        cost_list.append(best_cost)\n",
    "\n",
    "    return best_solution, best_cost, iteration_list, cost_list\n",
    "\n",
    "# Define search space bounds for each parameter\n",
    "lower_bounds = [2, 12, 0.1, 0, 0]  # Adjust these bounds as needed\n",
    "upper_bounds = [8, 36, 2.0, 1, 1]  # Adjust these bounds as needed\n",
    "\n",
    "# Run the black-hole algorithm to find the optimal parameters and plot the progress\n",
    "best_params, min_cost, iterations, costs = black_hole_algorithm_with_plot(iterations=1000, lower_bounds=lower_bounds, upper_bounds=upper_bounds)\n",
    "\n",
    "# Output the results\n",
    "print(\"Optimal Parameters:\", best_params)\n",
    "print(\"Minimum Cost:\", min_cost)\n",
    "\n",
    "# Plot optimization progress\n",
    "plt.figure(figsize=(8, 5))\n",
    "plt.plot(iterations, costs, marker='o', linestyle='-')\n",
    "plt.title(\"Black-Hole Algorithm Optimization\")\n",
    "plt.xlabel(\"Iterations\")\n",
    "plt.ylabel(\"Cost\")\n",
    "plt.grid(True)\n",
    "plt.show()\n"
   ]
  }
 ],
 "metadata": {
  "kernelspec": {
   "display_name": "Python 3 (ipykernel)",
   "language": "python",
   "name": "python3"
  },
  "language_info": {
   "codemirror_mode": {
    "name": "ipython",
    "version": 3
   },
   "file_extension": ".py",
   "mimetype": "text/x-python",
   "name": "python",
   "nbconvert_exporter": "python",
   "pygments_lexer": "ipython3",
   "version": "3.11.2"
  }
 },
 "nbformat": 4,
 "nbformat_minor": 5
}
